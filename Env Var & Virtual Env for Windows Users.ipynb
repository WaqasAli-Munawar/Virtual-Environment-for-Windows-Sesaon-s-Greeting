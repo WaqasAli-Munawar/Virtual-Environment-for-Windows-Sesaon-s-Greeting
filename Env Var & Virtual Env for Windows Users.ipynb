{
 "cells": [
  {
   "cell_type": "markdown",
   "id": "fa501cf0",
   "metadata": {},
   "source": [
    "# Env Var, Virtual Env & Dot Env File for Windows Users"
   ]
  },
  {
   "cell_type": "raw",
   "id": "8924ea0b",
   "metadata": {},
   "source": [
    "export API_KEY=\"123456ABC\" # Macos or Linux OS\n",
    "setx API_KEY \"123456ABC\" # Windows"
   ]
  },
  {
   "cell_type": "markdown",
   "id": "25dbed0a",
   "metadata": {},
   "source": [
    "# Create Virtual Environment\n",
    "\n",
    "* python3.10 -m venv env_var ------> Macos/linux/windows"
   ]
  },
  {
   "cell_type": "markdown",
   "id": "fc45fae4",
   "metadata": {},
   "source": [
    "# Activate Virtual Environment\n",
    "\n",
    "* source env_var/bin/activate -----> Macos/linux\n",
    "* env_var\\Scripts\\activate -----> windows"
   ]
  },
  {
   "cell_type": "code",
   "execution_count": null,
   "id": "077d7378",
   "metadata": {},
   "outputs": [],
   "source": []
  }
 ],
 "metadata": {
  "kernelspec": {
   "display_name": "Python 3 (ipykernel)",
   "language": "python",
   "name": "python3"
  },
  "language_info": {
   "codemirror_mode": {
    "name": "ipython",
    "version": 3
   },
   "file_extension": ".py",
   "mimetype": "text/x-python",
   "name": "python",
   "nbconvert_exporter": "python",
   "pygments_lexer": "ipython3",
   "version": "3.11.5"
  }
 },
 "nbformat": 4,
 "nbformat_minor": 5
}
