{
 "cells": [
  {
   "cell_type": "markdown",
   "id": "78a22474",
   "metadata": {},
   "source": [
    "# Lets Combine Business with Fun"
   ]
  },
  {
   "cell_type": "code",
   "execution_count": 3,
   "id": "8449f035",
   "metadata": {},
   "outputs": [],
   "source": [
    "# !pip install cowsay\n",
    "import cowsay"
   ]
  },
  {
   "cell_type": "code",
   "execution_count": 4,
   "id": "c6ba8458",
   "metadata": {},
   "outputs": [
    {
     "name": "stdout",
     "output_type": "stream",
     "text": [
      "  _________________________________________\n",
      " /                                         \\\n",
      "| HI. Welcome to DigiTech Synergy Pvt. Ltd. |\n",
      "| Happy New Year                            |\n",
      " \\                                         /\n",
      "  =========================================\n",
      "                                         \\\n",
      "                                          \\\n",
      "                                            ^__^\n",
      "                                            (oo)\\_______\n",
      "                                            (__)\\       )\\/\\\n",
      "                                                ||----w |\n",
      "                                                ||     ||\n"
     ]
    }
   ],
   "source": [
    "cowsay.cow(\"HI. Welcome to DigiTech Synergy Pvt. Ltd. \\n\\n Happy New Year\")"
   ]
  },
  {
   "cell_type": "code",
   "execution_count": 5,
   "id": "e2712c4d",
   "metadata": {},
   "outputs": [
    {
     "name": "stdout",
     "output_type": "stream",
     "text": [
      "  _________________________________\n",
      "| HI. I am fox and I am your friend |\n",
      "  =================================\n",
      "                                  \\\n",
      "                                   \\\n",
      "                                    \\\n",
      "                                     |\\_/|,,_____,~~`\n",
      "                                     (.\".)~~     )`~}}\n",
      "                                      \\o/\\ /---~\\\\ ~}}\n",
      "                                        _//    _// ~}\n"
     ]
    }
   ],
   "source": [
    "cowsay.fox(\"HI. I am fox and I am your friend\")"
   ]
  },
  {
   "cell_type": "code",
   "execution_count": 6,
   "id": "026513c0",
   "metadata": {},
   "outputs": [
    {
     "data": {
      "text/plain": [
       "'  _________________________________\\n| HI. I am fox and I am your friend |\\n  =================================\\n                                  \\\\\\n                                   \\\\\\n                                    \\\\\\n                                     |\\\\_/|,,_____,~~`\\n                                     (.\".)~~     )`~}}\\n                                      \\\\o/\\\\ /---~\\\\\\\\ ~}}\\n                                        _//    _// ~}'"
      ]
     },
     "execution_count": 6,
     "metadata": {},
     "output_type": "execute_result"
    }
   ],
   "source": [
    "cowsay.get_output_string(\"fox\",\"HI. I am fox and I am your friend\")"
   ]
  },
  {
   "cell_type": "code",
   "execution_count": 8,
   "id": "ce585a81",
   "metadata": {},
   "outputs": [],
   "source": [
    "fox = '\\n                                  \\\\\\n                                   \\\\\\n                                    \\\\\\n                                     |\\\\_/|,,_____,~~`\\n                                     (.\".)~~     )`~}}\\n                                      \\\\o/\\\\ /---~\\\\\\\\ ~}}\\n                                        _//    _// ~}'"
   ]
  },
  {
   "cell_type": "code",
   "execution_count": 9,
   "id": "c6bf1c19",
   "metadata": {},
   "outputs": [
    {
     "name": "stdout",
     "output_type": "stream",
     "text": [
      "\n",
      "                                  \\\n",
      "                                   \\\n",
      "                                    \\\n",
      "                                     |\\_/|,,_____,~~`\n",
      "                                     (.\".)~~     )`~}}\n",
      "                                      \\o/\\ /---~\\\\ ~}}\n",
      "                                        _//    _// ~}\n"
     ]
    }
   ],
   "source": [
    "print(fox)"
   ]
  },
  {
   "cell_type": "code",
   "execution_count": 10,
   "id": "0eed751f",
   "metadata": {},
   "outputs": [
    {
     "name": "stdout",
     "output_type": "stream",
     "text": [
      "  _____________\n",
      "| Hey. I am fox |\n",
      "  =============\n",
      "                                               \\\n",
      "                                                \\\n",
      "                                                 \\\n",
      "                                                  |\\_/|,,_____,~~`\n",
      "                                                  (.\".)~~     )`~}}\n",
      "                                                   \\o/\\ /---~\\\\ ~}}\n",
      "                                                     _//    _// ~}\n"
     ]
    }
   ],
   "source": [
    "cowsay.draw(\"Hey. I am fox\", fox)"
   ]
  },
  {
   "cell_type": "code",
   "execution_count": null,
   "id": "a21a65ba",
   "metadata": {},
   "outputs": [],
   "source": []
  }
 ],
 "metadata": {
  "kernelspec": {
   "display_name": "Python 3 (ipykernel)",
   "language": "python",
   "name": "python3"
  },
  "language_info": {
   "codemirror_mode": {
    "name": "ipython",
    "version": 3
   },
   "file_extension": ".py",
   "mimetype": "text/x-python",
   "name": "python",
   "nbconvert_exporter": "python",
   "pygments_lexer": "ipython3",
   "version": "3.11.5"
  }
 },
 "nbformat": 4,
 "nbformat_minor": 5
}
